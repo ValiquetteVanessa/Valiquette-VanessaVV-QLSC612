{
 "cells": [
  {
   "cell_type": "code",
   "execution_count": 1,
   "metadata": {},
   "outputs": [],
   "source": [
    "import warnings\n",
    "warnings.simplefilter(\"ignore\")"
   ]
  },
  {
   "cell_type": "markdown",
   "metadata": {},
   "source": [
    "# P-Hacking to its finest"
   ]
  },
  {
   "cell_type": "markdown",
   "metadata": {},
   "source": [
    "We want to try out what is the best way to hack our p-values to create sneaky significant results.\n",
    "\n",
    "Two new variables will be added to the following brainsize dataset.\n",
    "\n",
    "The goal is to find some friendly relationships between those new variables (partY and partY2) and the crew of already existing variables.\n",
    "\n",
    "! Let's have fun now !"
   ]
  },
  {
   "cell_type": "markdown",
   "metadata": {},
   "source": [
    "## Requirements\n",
    "\n",
    "1. Numpy\n",
    "2. Pandas\n",
    "3. Scipy\n",
    "4. Statsmodels\n",
    "5. Seaborn\n",
    "6. Matplotlib"
   ]
  },
  {
   "cell_type": "markdown",
   "metadata": {},
   "source": [
    "# 1. Get our dataset"
   ]
  },
  {
   "cell_type": "code",
   "execution_count": 2,
   "metadata": {},
   "outputs": [],
   "source": [
    "import numpy as np\n",
    "import pandas as pd"
   ]
  },
  {
   "cell_type": "code",
   "execution_count": 3,
   "metadata": {},
   "outputs": [],
   "source": [
    "# Read csv file from https://github.com/ValiquetteVanessa/Valiquette-VanessaVV-QLSC612/tree/master/practical\n",
    "\n",
    "csvfile = ('https://raw.githubusercontent.com/ValiquetteVanessa/Valiquette-VanessaVV-QLSC612/master/Original-data/brainsize.csv')\n",
    "\n",
    "brainsize = pd.read_csv(csvfile, sep=';', index_col=0)"
   ]
  },
  {
   "cell_type": "markdown",
   "metadata": {},
   "source": [
    "#  2. Preprocessing"
   ]
  },
  {
   "cell_type": "markdown",
   "metadata": {},
   "source": [
    "### Missing values"
   ]
  },
  {
   "cell_type": "markdown",
   "metadata": {},
   "source": [
    "We want to verify if we have any missing values not to run in further errors during analysis."
   ]
  },
  {
   "cell_type": "code",
   "execution_count": 4,
   "metadata": {},
   "outputs": [
    {
     "data": {
      "text/plain": [
       "(40, 7)"
      ]
     },
     "execution_count": 4,
     "metadata": {},
     "output_type": "execute_result"
    }
   ],
   "source": [
    "# See what shape our dataset has\n",
    "# Should get (40,7) = 40 subjects by 7 variables\n",
    "brainsize.shape"
   ]
  },
  {
   "cell_type": "code",
   "execution_count": 5,
   "metadata": {
    "scrolled": true
   },
   "outputs": [
    {
     "data": {
      "text/html": [
       "<div>\n",
       "<style scoped>\n",
       "    .dataframe tbody tr th:only-of-type {\n",
       "        vertical-align: middle;\n",
       "    }\n",
       "\n",
       "    .dataframe tbody tr th {\n",
       "        vertical-align: top;\n",
       "    }\n",
       "\n",
       "    .dataframe thead th {\n",
       "        text-align: right;\n",
       "    }\n",
       "</style>\n",
       "<table border=\"1\" class=\"dataframe\">\n",
       "  <thead>\n",
       "    <tr style=\"text-align: right;\">\n",
       "      <th></th>\n",
       "      <th>Gender</th>\n",
       "      <th>FSIQ</th>\n",
       "      <th>VIQ</th>\n",
       "      <th>PIQ</th>\n",
       "      <th>Weight</th>\n",
       "      <th>Height</th>\n",
       "      <th>MRI_Count</th>\n",
       "    </tr>\n",
       "  </thead>\n",
       "  <tbody>\n",
       "    <tr>\n",
       "      <th>1</th>\n",
       "      <td>Female</td>\n",
       "      <td>133</td>\n",
       "      <td>132</td>\n",
       "      <td>124</td>\n",
       "      <td>118</td>\n",
       "      <td>64.5</td>\n",
       "      <td>816932</td>\n",
       "    </tr>\n",
       "    <tr>\n",
       "      <th>2</th>\n",
       "      <td>Male</td>\n",
       "      <td>140</td>\n",
       "      <td>150</td>\n",
       "      <td>124</td>\n",
       "      <td>.</td>\n",
       "      <td>72.5</td>\n",
       "      <td>1001121</td>\n",
       "    </tr>\n",
       "    <tr>\n",
       "      <th>3</th>\n",
       "      <td>Male</td>\n",
       "      <td>139</td>\n",
       "      <td>123</td>\n",
       "      <td>150</td>\n",
       "      <td>143</td>\n",
       "      <td>73.3</td>\n",
       "      <td>1038437</td>\n",
       "    </tr>\n",
       "    <tr>\n",
       "      <th>4</th>\n",
       "      <td>Male</td>\n",
       "      <td>133</td>\n",
       "      <td>129</td>\n",
       "      <td>128</td>\n",
       "      <td>172</td>\n",
       "      <td>68.8</td>\n",
       "      <td>965353</td>\n",
       "    </tr>\n",
       "    <tr>\n",
       "      <th>5</th>\n",
       "      <td>Female</td>\n",
       "      <td>137</td>\n",
       "      <td>132</td>\n",
       "      <td>134</td>\n",
       "      <td>147</td>\n",
       "      <td>65.0</td>\n",
       "      <td>951545</td>\n",
       "    </tr>\n",
       "  </tbody>\n",
       "</table>\n",
       "</div>"
      ],
      "text/plain": [
       "   Gender  FSIQ  VIQ  PIQ Weight Height  MRI_Count\n",
       "1  Female   133  132  124    118   64.5     816932\n",
       "2    Male   140  150  124      .   72.5    1001121\n",
       "3    Male   139  123  150    143   73.3    1038437\n",
       "4    Male   133  129  128    172   68.8     965353\n",
       "5  Female   137  132  134    147   65.0     951545"
      ]
     },
     "execution_count": 5,
     "metadata": {},
     "output_type": "execute_result"
    }
   ],
   "source": [
    "# .head() Gives us the first 5 rows of our dataset\n",
    "# We can immediately see that we are missing values and they are noted with '.'\n",
    "\n",
    "brainsize.head()"
   ]
  },
  {
   "cell_type": "code",
   "execution_count": 6,
   "metadata": {},
   "outputs": [],
   "source": [
    "# Replace '.' with NaN\n",
    "brainsize = brainsize.replace('.', np.nan)"
   ]
  },
  {
   "cell_type": "code",
   "execution_count": 7,
   "metadata": {},
   "outputs": [
    {
     "data": {
      "text/html": [
       "<div>\n",
       "<style scoped>\n",
       "    .dataframe tbody tr th:only-of-type {\n",
       "        vertical-align: middle;\n",
       "    }\n",
       "\n",
       "    .dataframe tbody tr th {\n",
       "        vertical-align: top;\n",
       "    }\n",
       "\n",
       "    .dataframe thead th {\n",
       "        text-align: right;\n",
       "    }\n",
       "</style>\n",
       "<table border=\"1\" class=\"dataframe\">\n",
       "  <thead>\n",
       "    <tr style=\"text-align: right;\">\n",
       "      <th></th>\n",
       "      <th>Gender</th>\n",
       "      <th>FSIQ</th>\n",
       "      <th>VIQ</th>\n",
       "      <th>PIQ</th>\n",
       "      <th>Weight</th>\n",
       "      <th>Height</th>\n",
       "      <th>MRI_Count</th>\n",
       "    </tr>\n",
       "  </thead>\n",
       "  <tbody>\n",
       "    <tr>\n",
       "      <th>2</th>\n",
       "      <td>Male</td>\n",
       "      <td>140</td>\n",
       "      <td>150</td>\n",
       "      <td>124</td>\n",
       "      <td>NaN</td>\n",
       "      <td>72.5</td>\n",
       "      <td>1001121</td>\n",
       "    </tr>\n",
       "    <tr>\n",
       "      <th>21</th>\n",
       "      <td>Male</td>\n",
       "      <td>83</td>\n",
       "      <td>83</td>\n",
       "      <td>86</td>\n",
       "      <td>NaN</td>\n",
       "      <td>NaN</td>\n",
       "      <td>892420</td>\n",
       "    </tr>\n",
       "  </tbody>\n",
       "</table>\n",
       "</div>"
      ],
      "text/plain": [
       "   Gender  FSIQ  VIQ  PIQ Weight Height  MRI_Count\n",
       "2    Male   140  150  124    NaN   72.5    1001121\n",
       "21   Male    83   83   86    NaN    NaN     892420"
      ]
     },
     "execution_count": 7,
     "metadata": {},
     "output_type": "execute_result"
    }
   ],
   "source": [
    "# Display rows with NaN\n",
    "df1 = brainsize[brainsize.isna().any(axis=1)]\n",
    "df1"
   ]
  },
  {
   "cell_type": "code",
   "execution_count": 8,
   "metadata": {
    "scrolled": true
   },
   "outputs": [],
   "source": [
    "# Drop rows with NaN\n",
    "brainsize = brainsize.dropna()"
   ]
  },
  {
   "cell_type": "markdown",
   "metadata": {},
   "source": [
    "### Data type"
   ]
  },
  {
   "cell_type": "markdown",
   "metadata": {},
   "source": [
    "Verify the type of your variables and modify it to the expected type."
   ]
  },
  {
   "cell_type": "code",
   "execution_count": 9,
   "metadata": {},
   "outputs": [
    {
     "data": {
      "text/plain": [
       "Gender       object\n",
       "FSIQ          int64\n",
       "VIQ           int64\n",
       "PIQ           int64\n",
       "Weight       object\n",
       "Height       object\n",
       "MRI_Count     int64\n",
       "dtype: object"
      ]
     },
     "execution_count": 9,
     "metadata": {},
     "output_type": "execute_result"
    }
   ],
   "source": [
    "# Verify type of variables by column\n",
    "brainsize.dtypes\n",
    "\n",
    "# In the current situation Weight and Height are numbers.\n",
    "# Since they are under the \"object\" type, we want to modify that to \"int\" to be able to apply arithmetics."
   ]
  },
  {
   "cell_type": "code",
   "execution_count": 10,
   "metadata": {
    "scrolled": true
   },
   "outputs": [],
   "source": [
    "# transform column (variable) type to match actual type\n",
    "\n",
    "brainsize['Weight'] = brainsize['Weight'].astype(int)\n",
    "brainsize['Height'] = (pd.to_numeric(brainsize['Height'])).astype(int)"
   ]
  },
  {
   "cell_type": "markdown",
   "metadata": {},
   "source": [
    "### Data distribution"
   ]
  },
  {
   "cell_type": "markdown",
   "metadata": {},
   "source": [
    "See data distribution for every variables in dataset"
   ]
  },
  {
   "cell_type": "code",
   "execution_count": 11,
   "metadata": {},
   "outputs": [],
   "source": [
    "import seaborn as sns\n",
    "import matplotlib.pyplot as plt"
   ]
  },
  {
   "cell_type": "code",
   "execution_count": 12,
   "metadata": {
    "scrolled": false
   },
   "outputs": [
    {
     "data": {
      "image/png": "[encoded data removed]",
      "text/plain": [
       "<Figure size 432x288 with 1 Axes>"
      ]
     },
     "metadata": {
      "needs_background": "light"
     },
     "output_type": "display_data"
    },
    {
     "data": {
      "image/png": "[encoded data removed]",
      "text/plain": [
       "<Figure size 432x288 with 1 Axes>"
      ]
     },
     "metadata": {
      "needs_background": "light"
     },
     "output_type": "display_data"
    },
    {
     "data": {
      "image/png": "[encoded data removed]",
      "text/plain": [
       "<Figure size 432x288 with 1 Axes>"
      ]
     },
     "metadata": {
      "needs_background": "light"
     },
     "output_type": "display_data"
    },
    {
     "data": {
      "image/png": "[encoded data removed]",
      "text/plain": [
       "<Figure size 432x288 with 1 Axes>"
      ]
     },
     "metadata": {
      "needs_background": "light"
     },
     "output_type": "display_data"
    },
    {
     "data": {
      "image/png": "[encoded data removed]",
      "text/plain": [
       "<Figure size 432x288 with 1 Axes>"
      ]
     },
     "metadata": {
      "needs_background": "light"
     },
     "output_type": "display_data"
    },
    {
     "data": {
      "image/png": "[encoded data removed]",
      "text/plain": [
       "<Figure size 432x288 with 1 Axes>"
      ]
     },
     "metadata": {
      "needs_background": "light"
     },
     "output_type": "display_data"
    }
   ],
   "source": [
    "brain = brainsize.iloc[:,1:]\n",
    "brain\n",
    "for col in brain:\n",
    "    sns.distplot(brainsize[col])\n",
    "    plt.title('Distribution of %s values'%(col))\n",
    "    plt.show()\n"
   ]
  },
  {
   "cell_type": "markdown",
   "metadata": {},
   "source": [
    "All the variables have a bimodal distribution except the MRI_count that is normal."
   ]
  },
  {
   "cell_type": "markdown",
   "metadata": {},
   "source": [
    "# 3. Add new variable partY"
   ]
  },
  {
   "cell_type": "markdown",
   "metadata": {},
   "source": [
    "Create a random normal distribution to fit dataset disrtibutions"
   ]
  },
  {
   "cell_type": "code",
   "execution_count": 32,
   "metadata": {},
   "outputs": [],
   "source": [
    "# Select a seed to have same random distribution everytime\n",
    "# Creates a bimodal random distribution added at the end of dataset\n",
    "\n",
    "np.random.seed(40)\n",
    "brainsize['partY'] = np.random.randint(3,93,size=len(brainsize.iloc[:,0]))\n"
   ]
  },
  {
   "cell_type": "markdown",
   "metadata": {},
   "source": [
    "# 4. Standardize values in dataset"
   ]
  },
  {
   "cell_type": "code",
   "execution_count": 14,
   "metadata": {},
   "outputs": [],
   "source": [
    "from sklearn.preprocessing import Normalizer"
   ]
  },
  {
   "cell_type": "code",
   "execution_count": 15,
   "metadata": {},
   "outputs": [
    {
     "data": {
      "text/plain": [
       "['FSIQ', 'VIQ', 'PIQ', 'Weight', 'Height', 'MRI_Count', 'partY']"
      ]
     },
     "execution_count": 15,
     "metadata": {},
     "output_type": "execute_result"
    }
   ],
   "source": [
    "features = brainsize.iloc[:,1:].columns.tolist()\n",
    "features"
   ]
  },
  {
   "cell_type": "code",
   "execution_count": 16,
   "metadata": {
    "scrolled": true
   },
   "outputs": [],
   "source": [
    "x = brainsize.loc[:,features].values"
   ]
  },
  {
   "cell_type": "code",
   "execution_count": 17,
   "metadata": {
    "scrolled": true
   },
   "outputs": [
    {
     "data": {
      "text/html": [
       "<div>\n",
       "<style scoped>\n",
       "    .dataframe tbody tr th:only-of-type {\n",
       "        vertical-align: middle;\n",
       "    }\n",
       "\n",
       "    .dataframe tbody tr th {\n",
       "        vertical-align: top;\n",
       "    }\n",
       "\n",
       "    .dataframe thead th {\n",
       "        text-align: right;\n",
       "    }\n",
       "</style>\n",
       "<table border=\"1\" class=\"dataframe\">\n",
       "  <thead>\n",
       "    <tr style=\"text-align: right;\">\n",
       "      <th></th>\n",
       "      <th>FSIQ</th>\n",
       "      <th>VIQ</th>\n",
       "      <th>PIQ</th>\n",
       "      <th>Weight</th>\n",
       "      <th>Height</th>\n",
       "      <th>MRI_Count</th>\n",
       "      <th>partY</th>\n",
       "    </tr>\n",
       "  </thead>\n",
       "  <tbody>\n",
       "    <tr>\n",
       "      <th>0</th>\n",
       "      <td>0.000163</td>\n",
       "      <td>0.000162</td>\n",
       "      <td>0.000152</td>\n",
       "      <td>0.000144</td>\n",
       "      <td>0.000078</td>\n",
       "      <td>1.0</td>\n",
       "      <td>0.000038</td>\n",
       "    </tr>\n",
       "    <tr>\n",
       "      <th>1</th>\n",
       "      <td>0.000134</td>\n",
       "      <td>0.000118</td>\n",
       "      <td>0.000144</td>\n",
       "      <td>0.000138</td>\n",
       "      <td>0.000070</td>\n",
       "      <td>1.0</td>\n",
       "      <td>0.000070</td>\n",
       "    </tr>\n",
       "    <tr>\n",
       "      <th>2</th>\n",
       "      <td>0.000138</td>\n",
       "      <td>0.000134</td>\n",
       "      <td>0.000133</td>\n",
       "      <td>0.000178</td>\n",
       "      <td>0.000070</td>\n",
       "      <td>1.0</td>\n",
       "      <td>0.000028</td>\n",
       "    </tr>\n",
       "    <tr>\n",
       "      <th>3</th>\n",
       "      <td>0.000144</td>\n",
       "      <td>0.000139</td>\n",
       "      <td>0.000141</td>\n",
       "      <td>0.000154</td>\n",
       "      <td>0.000068</td>\n",
       "      <td>1.0</td>\n",
       "      <td>0.000035</td>\n",
       "    </tr>\n",
       "    <tr>\n",
       "      <th>4</th>\n",
       "      <td>0.000107</td>\n",
       "      <td>0.000097</td>\n",
       "      <td>0.000118</td>\n",
       "      <td>0.000157</td>\n",
       "      <td>0.000074</td>\n",
       "      <td>1.0</td>\n",
       "      <td>0.000041</td>\n",
       "    </tr>\n",
       "    <tr>\n",
       "      <th>5</th>\n",
       "      <td>0.000139</td>\n",
       "      <td>0.000137</td>\n",
       "      <td>0.000132</td>\n",
       "      <td>0.000139</td>\n",
       "      <td>0.000065</td>\n",
       "      <td>1.0</td>\n",
       "      <td>0.000042</td>\n",
       "    </tr>\n",
       "    <tr>\n",
       "      <th>6</th>\n",
       "      <td>0.000108</td>\n",
       "      <td>0.000105</td>\n",
       "      <td>0.000115</td>\n",
       "      <td>0.000205</td>\n",
       "      <td>0.000077</td>\n",
       "      <td>1.0</td>\n",
       "      <td>0.000059</td>\n",
       "    </tr>\n",
       "    <tr>\n",
       "      <th>7</th>\n",
       "      <td>0.000098</td>\n",
       "      <td>0.000103</td>\n",
       "      <td>0.000093</td>\n",
       "      <td>0.000148</td>\n",
       "      <td>0.000073</td>\n",
       "      <td>1.0</td>\n",
       "      <td>0.000041</td>\n",
       "    </tr>\n",
       "    <tr>\n",
       "      <th>8</th>\n",
       "      <td>0.000139</td>\n",
       "      <td>0.000119</td>\n",
       "      <td>0.000154</td>\n",
       "      <td>0.000180</td>\n",
       "      <td>0.000071</td>\n",
       "      <td>1.0</td>\n",
       "      <td>0.000024</td>\n",
       "    </tr>\n",
       "    <tr>\n",
       "      <th>9</th>\n",
       "      <td>0.000158</td>\n",
       "      <td>0.000155</td>\n",
       "      <td>0.000149</td>\n",
       "      <td>0.000142</td>\n",
       "      <td>0.000077</td>\n",
       "      <td>1.0</td>\n",
       "      <td>0.000020</td>\n",
       "    </tr>\n",
       "    <tr>\n",
       "      <th>10</th>\n",
       "      <td>0.000131</td>\n",
       "      <td>0.000139</td>\n",
       "      <td>0.000119</td>\n",
       "      <td>0.000140</td>\n",
       "      <td>0.000065</td>\n",
       "      <td>1.0</td>\n",
       "      <td>0.000043</td>\n",
       "    </tr>\n",
       "    <tr>\n",
       "      <th>11</th>\n",
       "      <td>0.000146</td>\n",
       "      <td>0.000140</td>\n",
       "      <td>0.000134</td>\n",
       "      <td>0.000168</td>\n",
       "      <td>0.000075</td>\n",
       "      <td>1.0</td>\n",
       "      <td>0.000041</td>\n",
       "    </tr>\n",
       "    <tr>\n",
       "      <th>12</th>\n",
       "      <td>0.000163</td>\n",
       "      <td>0.000140</td>\n",
       "      <td>0.000172</td>\n",
       "      <td>0.000181</td>\n",
       "      <td>0.000082</td>\n",
       "      <td>1.0</td>\n",
       "      <td>0.000048</td>\n",
       "    </tr>\n",
       "    <tr>\n",
       "      <th>13</th>\n",
       "      <td>0.000109</td>\n",
       "      <td>0.000114</td>\n",
       "      <td>0.000102</td>\n",
       "      <td>0.000166</td>\n",
       "      <td>0.000075</td>\n",
       "      <td>1.0</td>\n",
       "      <td>0.000008</td>\n",
       "    </tr>\n",
       "    <tr>\n",
       "      <th>14</th>\n",
       "      <td>0.000096</td>\n",
       "      <td>0.000082</td>\n",
       "      <td>0.000111</td>\n",
       "      <td>0.000156</td>\n",
       "      <td>0.000079</td>\n",
       "      <td>1.0</td>\n",
       "      <td>0.000012</td>\n",
       "    </tr>\n",
       "    <tr>\n",
       "      <th>15</th>\n",
       "      <td>0.000155</td>\n",
       "      <td>0.000155</td>\n",
       "      <td>0.000141</td>\n",
       "      <td>0.000149</td>\n",
       "      <td>0.000080</td>\n",
       "      <td>1.0</td>\n",
       "      <td>0.000066</td>\n",
       "    </tr>\n",
       "    <tr>\n",
       "      <th>16</th>\n",
       "      <td>0.000106</td>\n",
       "      <td>0.000102</td>\n",
       "      <td>0.000108</td>\n",
       "      <td>0.000188</td>\n",
       "      <td>0.000077</td>\n",
       "      <td>1.0</td>\n",
       "      <td>0.000043</td>\n",
       "    </tr>\n",
       "    <tr>\n",
       "      <th>17</th>\n",
       "      <td>0.000125</td>\n",
       "      <td>0.000139</td>\n",
       "      <td>0.000104</td>\n",
       "      <td>0.000168</td>\n",
       "      <td>0.000082</td>\n",
       "      <td>1.0</td>\n",
       "      <td>0.000050</td>\n",
       "    </tr>\n",
       "    <tr>\n",
       "      <th>18</th>\n",
       "      <td>0.000090</td>\n",
       "      <td>0.000087</td>\n",
       "      <td>0.000097</td>\n",
       "      <td>0.000202</td>\n",
       "      <td>0.000079</td>\n",
       "      <td>1.0</td>\n",
       "      <td>0.000080</td>\n",
       "    </tr>\n",
       "    <tr>\n",
       "      <th>19</th>\n",
       "      <td>0.000107</td>\n",
       "      <td>0.000118</td>\n",
       "      <td>0.000093</td>\n",
       "      <td>0.000205</td>\n",
       "      <td>0.000084</td>\n",
       "      <td>1.0</td>\n",
       "      <td>0.000057</td>\n",
       "    </tr>\n",
       "    <tr>\n",
       "      <th>20</th>\n",
       "      <td>0.000171</td>\n",
       "      <td>0.000163</td>\n",
       "      <td>0.000169</td>\n",
       "      <td>0.000154</td>\n",
       "      <td>0.000078</td>\n",
       "      <td>1.0</td>\n",
       "      <td>0.000095</td>\n",
       "    </tr>\n",
       "    <tr>\n",
       "      <th>21</th>\n",
       "      <td>0.000146</td>\n",
       "      <td>0.000152</td>\n",
       "      <td>0.000134</td>\n",
       "      <td>0.000138</td>\n",
       "      <td>0.000071</td>\n",
       "      <td>1.0</td>\n",
       "      <td>0.000047</td>\n",
       "    </tr>\n",
       "    <tr>\n",
       "      <th>22</th>\n",
       "      <td>0.000109</td>\n",
       "      <td>0.000103</td>\n",
       "      <td>0.000123</td>\n",
       "      <td>0.000137</td>\n",
       "      <td>0.000076</td>\n",
       "      <td>1.0</td>\n",
       "      <td>0.000036</td>\n",
       "    </tr>\n",
       "    <tr>\n",
       "      <th>23</th>\n",
       "      <td>0.000151</td>\n",
       "      <td>0.000155</td>\n",
       "      <td>0.000140</td>\n",
       "      <td>0.000183</td>\n",
       "      <td>0.000077</td>\n",
       "      <td>1.0</td>\n",
       "      <td>0.000036</td>\n",
       "    </tr>\n",
       "    <tr>\n",
       "      <th>24</th>\n",
       "      <td>0.000106</td>\n",
       "      <td>0.000113</td>\n",
       "      <td>0.000105</td>\n",
       "      <td>0.000175</td>\n",
       "      <td>0.000085</td>\n",
       "      <td>1.0</td>\n",
       "      <td>0.000103</td>\n",
       "    </tr>\n",
       "    <tr>\n",
       "      <th>25</th>\n",
       "      <td>0.000097</td>\n",
       "      <td>0.000090</td>\n",
       "      <td>0.000104</td>\n",
       "      <td>0.000176</td>\n",
       "      <td>0.000072</td>\n",
       "      <td>1.0</td>\n",
       "      <td>0.000043</td>\n",
       "    </tr>\n",
       "    <tr>\n",
       "      <th>26</th>\n",
       "      <td>0.000097</td>\n",
       "      <td>0.000105</td>\n",
       "      <td>0.000091</td>\n",
       "      <td>0.000134</td>\n",
       "      <td>0.000079</td>\n",
       "      <td>1.0</td>\n",
       "      <td>0.000033</td>\n",
       "    </tr>\n",
       "    <tr>\n",
       "      <th>27</th>\n",
       "      <td>0.000150</td>\n",
       "      <td>0.000145</td>\n",
       "      <td>0.000143</td>\n",
       "      <td>0.000183</td>\n",
       "      <td>0.000076</td>\n",
       "      <td>1.0</td>\n",
       "      <td>0.000075</td>\n",
       "    </tr>\n",
       "    <tr>\n",
       "      <th>28</th>\n",
       "      <td>0.000155</td>\n",
       "      <td>0.000147</td>\n",
       "      <td>0.000154</td>\n",
       "      <td>0.000148</td>\n",
       "      <td>0.000072</td>\n",
       "      <td>1.0</td>\n",
       "      <td>0.000096</td>\n",
       "    </tr>\n",
       "    <tr>\n",
       "      <th>29</th>\n",
       "      <td>0.000152</td>\n",
       "      <td>0.000153</td>\n",
       "      <td>0.000144</td>\n",
       "      <td>0.000201</td>\n",
       "      <td>0.000071</td>\n",
       "      <td>1.0</td>\n",
       "      <td>0.000099</td>\n",
       "    </tr>\n",
       "    <tr>\n",
       "      <th>30</th>\n",
       "      <td>0.000103</td>\n",
       "      <td>0.000096</td>\n",
       "      <td>0.000110</td>\n",
       "      <td>0.000192</td>\n",
       "      <td>0.000075</td>\n",
       "      <td>1.0</td>\n",
       "      <td>0.000121</td>\n",
       "    </tr>\n",
       "    <tr>\n",
       "      <th>31</th>\n",
       "      <td>0.000102</td>\n",
       "      <td>0.000109</td>\n",
       "      <td>0.000098</td>\n",
       "      <td>0.000206</td>\n",
       "      <td>0.000078</td>\n",
       "      <td>1.0</td>\n",
       "      <td>0.000100</td>\n",
       "    </tr>\n",
       "    <tr>\n",
       "      <th>32</th>\n",
       "      <td>0.000099</td>\n",
       "      <td>0.000108</td>\n",
       "      <td>0.000097</td>\n",
       "      <td>0.000171</td>\n",
       "      <td>0.000079</td>\n",
       "      <td>1.0</td>\n",
       "      <td>0.000047</td>\n",
       "    </tr>\n",
       "    <tr>\n",
       "      <th>33</th>\n",
       "      <td>0.000140</td>\n",
       "      <td>0.000136</td>\n",
       "      <td>0.000135</td>\n",
       "      <td>0.000161</td>\n",
       "      <td>0.000070</td>\n",
       "      <td>1.0</td>\n",
       "      <td>0.000064</td>\n",
       "    </tr>\n",
       "    <tr>\n",
       "      <th>34</th>\n",
       "      <td>0.000147</td>\n",
       "      <td>0.000158</td>\n",
       "      <td>0.000131</td>\n",
       "      <td>0.000152</td>\n",
       "      <td>0.000074</td>\n",
       "      <td>1.0</td>\n",
       "      <td>0.000091</td>\n",
       "    </tr>\n",
       "    <tr>\n",
       "      <th>35</th>\n",
       "      <td>0.000098</td>\n",
       "      <td>0.000096</td>\n",
       "      <td>0.000105</td>\n",
       "      <td>0.000155</td>\n",
       "      <td>0.000072</td>\n",
       "      <td>1.0</td>\n",
       "      <td>0.000051</td>\n",
       "    </tr>\n",
       "    <tr>\n",
       "      <th>36</th>\n",
       "      <td>0.000087</td>\n",
       "      <td>0.000097</td>\n",
       "      <td>0.000080</td>\n",
       "      <td>0.000159</td>\n",
       "      <td>0.000080</td>\n",
       "      <td>1.0</td>\n",
       "      <td>0.000082</td>\n",
       "    </tr>\n",
       "    <tr>\n",
       "      <th>37</th>\n",
       "      <td>0.000095</td>\n",
       "      <td>0.000097</td>\n",
       "      <td>0.000095</td>\n",
       "      <td>0.000191</td>\n",
       "      <td>0.000080</td>\n",
       "      <td>1.0</td>\n",
       "      <td>0.000092</td>\n",
       "    </tr>\n",
       "  </tbody>\n",
       "</table>\n",
       "</div>"
      ],
      "text/plain": [
       "        FSIQ       VIQ       PIQ    Weight    Height  MRI_Count     partY\n",
       "0   0.000163  0.000162  0.000152  0.000144  0.000078        1.0  0.000038\n",
       "1   0.000134  0.000118  0.000144  0.000138  0.000070        1.0  0.000070\n",
       "2   0.000138  0.000134  0.000133  0.000178  0.000070        1.0  0.000028\n",
       "3   0.000144  0.000139  0.000141  0.000154  0.000068        1.0  0.000035\n",
       "4   0.000107  0.000097  0.000118  0.000157  0.000074        1.0  0.000041\n",
       "5   0.000139  0.000137  0.000132  0.000139  0.000065        1.0  0.000042\n",
       "6   0.000108  0.000105  0.000115  0.000205  0.000077        1.0  0.000059\n",
       "7   0.000098  0.000103  0.000093  0.000148  0.000073        1.0  0.000041\n",
       "8   0.000139  0.000119  0.000154  0.000180  0.000071        1.0  0.000024\n",
       "9   0.000158  0.000155  0.000149  0.000142  0.000077        1.0  0.000020\n",
       "10  0.000131  0.000139  0.000119  0.000140  0.000065        1.0  0.000043\n",
       "11  0.000146  0.000140  0.000134  0.000168  0.000075        1.0  0.000041\n",
       "12  0.000163  0.000140  0.000172  0.000181  0.000082        1.0  0.000048\n",
       "13  0.000109  0.000114  0.000102  0.000166  0.000075        1.0  0.000008\n",
       "14  0.000096  0.000082  0.000111  0.000156  0.000079        1.0  0.000012\n",
       "15  0.000155  0.000155  0.000141  0.000149  0.000080        1.0  0.000066\n",
       "16  0.000106  0.000102  0.000108  0.000188  0.000077        1.0  0.000043\n",
       "17  0.000125  0.000139  0.000104  0.000168  0.000082        1.0  0.000050\n",
       "18  0.000090  0.000087  0.000097  0.000202  0.000079        1.0  0.000080\n",
       "19  0.000107  0.000118  0.000093  0.000205  0.000084        1.0  0.000057\n",
       "20  0.000171  0.000163  0.000169  0.000154  0.000078        1.0  0.000095\n",
       "21  0.000146  0.000152  0.000134  0.000138  0.000071        1.0  0.000047\n",
       "22  0.000109  0.000103  0.000123  0.000137  0.000076        1.0  0.000036\n",
       "23  0.000151  0.000155  0.000140  0.000183  0.000077        1.0  0.000036\n",
       "24  0.000106  0.000113  0.000105  0.000175  0.000085        1.0  0.000103\n",
       "25  0.000097  0.000090  0.000104  0.000176  0.000072        1.0  0.000043\n",
       "26  0.000097  0.000105  0.000091  0.000134  0.000079        1.0  0.000033\n",
       "27  0.000150  0.000145  0.000143  0.000183  0.000076        1.0  0.000075\n",
       "28  0.000155  0.000147  0.000154  0.000148  0.000072        1.0  0.000096\n",
       "29  0.000152  0.000153  0.000144  0.000201  0.000071        1.0  0.000099\n",
       "30  0.000103  0.000096  0.000110  0.000192  0.000075        1.0  0.000121\n",
       "31  0.000102  0.000109  0.000098  0.000206  0.000078        1.0  0.000100\n",
       "32  0.000099  0.000108  0.000097  0.000171  0.000079        1.0  0.000047\n",
       "33  0.000140  0.000136  0.000135  0.000161  0.000070        1.0  0.000064\n",
       "34  0.000147  0.000158  0.000131  0.000152  0.000074        1.0  0.000091\n",
       "35  0.000098  0.000096  0.000105  0.000155  0.000072        1.0  0.000051\n",
       "36  0.000087  0.000097  0.000080  0.000159  0.000080        1.0  0.000082\n",
       "37  0.000095  0.000097  0.000095  0.000191  0.000080        1.0  0.000092"
      ]
     },
     "execution_count": 17,
     "metadata": {},
     "output_type": "execute_result"
    }
   ],
   "source": [
    "x = Normalizer().fit_transform(x)\n",
    "pd.DataFrame(data=x, columns=features).head(40)"
   ]
  },
  {
   "cell_type": "markdown",
   "metadata": {},
   "source": [
    "# 5. Statistics"
   ]
  },
  {
   "cell_type": "markdown",
   "metadata": {},
   "source": [
    "Calculate Pearson's correlation between every variable and select only significant ones"
   ]
  },
  {
   "cell_type": "code",
   "execution_count": 18,
   "metadata": {},
   "outputs": [],
   "source": [
    "from scipy import stats as sst"
   ]
  },
  {
   "cell_type": "code",
   "execution_count": 19,
   "metadata": {},
   "outputs": [
    {
     "name": "stdout",
     "output_type": "stream",
     "text": [
      "FSIQ partY     0.0173\n",
      "VIQ partY     0.0613\n",
      "PIQ partY     0.0069\n",
      "Weight partY     0.3827\n",
      "Height partY     0.3250\n",
      "MRI_Count partY     0.1648\n"
     ]
    }
   ],
   "source": [
    "# Gives the p-values for comparison of new variable partY with \n",
    "# every other columns in brainsize (except gender, because categorical)\n",
    "\n",
    "new = brainsize.iloc[:,1:]\n",
    "\n",
    "for col in new:\n",
    "    x= brainsize[col]\n",
    "    x_name= col\n",
    "\n",
    "    for col in new:\n",
    "        \n",
    "        if col == x_name:\n",
    "            continue\n",
    "        y= brainsize[col]\n",
    "        p_val,coeff = sst.pearsonr(x,y)\n",
    "\n",
    "        if col == 'partY':\n",
    "            print(x_name, col, \"{:10.4f}\".format(p_val))"
   ]
  },
  {
   "cell_type": "markdown",
   "metadata": {},
   "source": [
    "Functions to plot correlation matrix with only significant results"
   ]
  },
  {
   "cell_type": "code",
   "execution_count": 44,
   "metadata": {},
   "outputs": [],
   "source": [
    "# Function to plot correlation matrix heatmap\n",
    "\n",
    "def plot_cor_matrix(corr, mask=None):\n",
    "    f, ax = plt.subplots(figsize=(11, 9))\n",
    "    sns.heatmap(corr, ax=ax,\n",
    "                mask=mask,\n",
    "                # cosmetics\n",
    "                annot=True, vmin=-1, vmax=1, center=0,\n",
    "                cmap='coolwarm', cbar_kws={'orientation': 'horizontal'})\n",
    "    plt.title('Significative correlation between variables')"
   ]
  },
  {
   "cell_type": "code",
   "execution_count": 21,
   "metadata": {},
   "outputs": [],
   "source": [
    "# Functions that returns a matrix of p-values\n",
    "\n",
    "def corr_sig(df=None):\n",
    "    p_matrix = np.zeros(shape=(df.shape[1],df.shape[1]))\n",
    "    for col in df.columns:\n",
    "        for col2 in df.drop(col,axis=1).columns:\n",
    "            _ , p = sst.pearsonr(df[col],df[col2])\n",
    "            p_matrix[df.columns.to_list().index(col),df.columns.to_list().index(col2)] = p\n",
    "    return p_matrix"
   ]
  },
  {
   "cell_type": "code",
   "execution_count": 45,
   "metadata": {},
   "outputs": [
    {
     "data": {
      "image/png": "[encoded data removed]",
      "text/plain": [
       "<Figure size 792x648 with 2 Axes>"
      ]
     },
     "metadata": {
      "needs_background": "light"
     },
     "output_type": "display_data"
    }
   ],
   "source": [
    "corr = brainsize.iloc[:,1:].corr()          # get correlation\n",
    "p_values = corr_sig(brainsize.iloc[:,1:])   # get p-Value\n",
    "mask = np.invert(np.tril(p_values<0.05))    # mask - only get significant corr\n",
    "plot_cor_matrix(corr,mask)"
   ]
  },
  {
   "cell_type": "markdown",
   "metadata": {},
   "source": [
    "# 6. Add new variable partY2"
   ]
  },
  {
   "cell_type": "markdown",
   "metadata": {},
   "source": [
    "Add a second normally distributed variable (partY2) that follows the same function as partY"
   ]
  },
  {
   "cell_type": "code",
   "execution_count": 40,
   "metadata": {},
   "outputs": [],
   "source": [
    "np.random.seed(1)\n",
    "brainsize['partY2'] = np.random.randint(3,93,size=len(brainsize.iloc[:,0]))"
   ]
  },
  {
   "cell_type": "markdown",
   "metadata": {},
   "source": [
    "Run section 5 and 6 to evaluate correlation with new variable partY2"
   ]
  },
  {
   "cell_type": "markdown",
   "metadata": {},
   "source": [
    "# 7. Conclusion"
   ]
  },
  {
   "cell_type": "markdown",
   "metadata": {},
   "source": [
    "We can conclude that:\n",
    "\n",
    "- partY correlates significantly with the Verbal Intelligence Quotient, and so could have a verbal aspect.\n",
    "\n",
    "- partY2 has a significant inverse correlation with all Intelligence Quotient scores.\n"
   ]
  }
 ],
 "metadata": {
  "kernelspec": {
   "display_name": "Python 3",
   "language": "python",
   "name": "python3"
  },
  "language_info": {
   "codemirror_mode": {
    "name": "ipython",
    "version": 3
   },
   "file_extension": ".py",
   "mimetype": "text/x-python",
   "name": "python",
   "nbconvert_exporter": "python",
   "pygments_lexer": "ipython3",
   "version": "3.7.6"
  }
 },
 "nbformat": 4,
 "nbformat_minor": 4
}
